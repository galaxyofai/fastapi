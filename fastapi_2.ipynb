{
 "cells": [
  {
   "attachments": {},
   "cell_type": "markdown",
   "metadata": {},
   "source": [
    "### Path Operation Function"
   ]
  },
  {
   "cell_type": "code",
   "execution_count": null,
   "metadata": {},
   "outputs": [],
   "source": [
    "from fastapi import FastAPI\n",
    "\n",
    "app =FastAPI()\n",
    "\n",
    "@app.get(\"/\")\n",
    "def add():\n",
    "    return 4"
   ]
  },
  {
   "attachments": {},
   "cell_type": "markdown",
   "metadata": {},
   "source": [
    "### Path Parameter"
   ]
  },
  {
   "cell_type": "code",
   "execution_count": null,
   "metadata": {},
   "outputs": [],
   "source": [
    "from fastapi import FastAPI\n",
    "\n",
    "app =FastAPI()\n",
    "\n",
    "@app.get(\"/\")\n",
    "def hello():\n",
    "    return \"hello\"\n",
    "\n",
    "@app.get(\"/{item}\")\n",
    "def show_item(item):\n",
    "    return {\"Items\":item}"
   ]
  },
  {
   "attachments": {},
   "cell_type": "markdown",
   "metadata": {},
   "source": [
    "- Here hello() function is default one and show_item() is path parameter with items\n",
    "\n",
    "- Url : http://127.0.0.1:8000/\n",
    "- - output: \"hello\"\n",
    "\n",
    "- url : http://127.0.0.1:8000/apple\n",
    "- - output: {\"item\":\"apple\"}\n",
    "\n",
    "\n",
    "- Variable item take apple as a variable value.\n",
    "- this is what path parameter look likes."
   ]
  },
  {
   "attachments": {},
   "cell_type": "markdown",
   "metadata": {},
   "source": [
    "### Path parameter with types"
   ]
  },
  {
   "cell_type": "code",
   "execution_count": null,
   "metadata": {},
   "outputs": [],
   "source": [
    "from fastapi import FastAPI\n",
    "\n",
    "app =FastAPI()\n",
    "\n",
    "@app.get(\"/\")\n",
    "def hello():\n",
    "    return \"hello\"\n",
    "\n",
    "@app.get(\"/{item}\")\n",
    "def show_item(item:str):\n",
    "    return {\"Items\":item}"
   ]
  },
  {
   "attachments": {},
   "cell_type": "markdown",
   "metadata": {},
   "source": [
    "http://127.0.0.1:8000/apple\n",
    "\n",
    "- Output : {\"Items\":\"apple\"}\n",
    "\n",
    "http://127.0.0.1:8000/45\n",
    "\n",
    "- Output : {\"Items\":\"45\"}\n",
    "\n"
   ]
  },
  {
   "cell_type": "code",
   "execution_count": null,
   "metadata": {},
   "outputs": [],
   "source": [
    "from fastapi import FastAPI\n",
    "\n",
    "app =FastAPI()\n",
    "\n",
    "@app.get(\"/\")\n",
    "def hello():\n",
    "    return \"hello\"\n",
    "\n",
    "@app.get(\"/{item}\")\n",
    "def show_item(item:int):\n",
    "    return {\"Items\":item}"
   ]
  },
  {
   "attachments": {},
   "cell_type": "markdown",
   "metadata": {},
   "source": [
    "http://127.0.0.1:8000/apple\n",
    "\n",
    "- Output : {\"detail\":[{\"loc\":[\"path\",\"item\"],\"msg\":\"value is not a valid integer\",\"type\":\"type_error.integer\"}]}\n",
    "\n",
    "http://127.0.0.1:8000/45\n",
    "\n",
    "- Output : {\"Items\":45}\n"
   ]
  },
  {
   "attachments": {},
   "cell_type": "markdown",
   "metadata": {},
   "source": [
    "### Python Enumeration"
   ]
  },
  {
   "cell_type": "code",
   "execution_count": null,
   "metadata": {},
   "outputs": [],
   "source": [
    "from enum import Enum\n",
    "\n",
    "from fastapi import FastAPI\n",
    "\n",
    "class Fruits(str, Enum):\n",
    "    orange = \"orange\"\n",
    "    apple = \"apple\"\n",
    "    grapes = \"grapes\"\n",
    "\n",
    "\n",
    "app = FastAPI()\n",
    "\n",
    "@app.get(\"/fruits/{fruit_name}\")\n",
    "def get_fruit(fruit_name : Fruits):\n",
    "    if fruit_name == fruit_name.orange:\n",
    "        return {\"Fruit_name matched\": fruit_name}\n",
    "\n",
    "    if fruit_name.value == \"apple\":\n",
    "        return {\"Fruit_name matched\": fruit_name}\n",
    "    \n",
    "    return {\"Fruit Name\":fruit_name}"
   ]
  },
  {
   "attachments": {},
   "cell_type": "markdown",
   "metadata": {},
   "source": [
    "- It is not necessary to learn enumeration for fastapi but it's good to have knowledge of enum."
   ]
  },
  {
   "attachments": {},
   "cell_type": "markdown",
   "metadata": {},
   "source": [
    "### Query parameters\n",
    "\n",
    "- when we declare Function Paramter that are not part of Path paramter they are automatically interpreted as query parameter"
   ]
  },
  {
   "cell_type": "code",
   "execution_count": null,
   "metadata": {},
   "outputs": [],
   "source": [
    "\n",
    "\n",
    "from fastapi import FastAPI\n",
    "\n",
    "app =FastAPI()\n",
    "\n",
    "# a and b are function parameter\n",
    "def add(a,b):\n",
    "    return a+b\n",
    "\n",
    "# item is a path parameter\n",
    "@app.get(\"/{item}\")\n",
    "def show_item(item:int):\n",
    "    return {\"Items\":item}\n",
    "\n",
    "\n",
    "# name and weight are query parameter\n",
    "@app.get(\"/fruit\")\n",
    "def fruits(name:str,weight:str):\n",
    "    return {\"fruit_name\":name,\"fruit_weight\":weight}"
   ]
  },
  {
   "attachments": {},
   "cell_type": "markdown",
   "metadata": {},
   "source": [
    "- Now we have to send data to query parameter  first run the above code and in URL add the query paramter as below\n",
    "\n",
    "- http://127.0.0.1:8000/fruit/?name=apple&weight=12kg   \n",
    "- ./src/images/query_parameter.png\n",
    "\n",
    "- This is how we can pass query paramter if it is not a path parameter"
   ]
  },
  {
   "cell_type": "code",
   "execution_count": null,
   "metadata": {},
   "outputs": [],
   "source": [
    "from fastapi import FastAPI\n",
    "\n",
    "app =FastAPI()\n",
    "\n",
    "@app.get(\"/fruit\")\n",
    "def fruits(count:int,weight:int):\n",
    "    return {\"fruit_count\":count,\"fruit_weight\":weight}\n",
    "\n"
   ]
  },
  {
   "attachments": {},
   "cell_type": "markdown",
   "metadata": {},
   "source": [
    "- http://127.0.0.1:8000/fruit/?count=56&weight=124 \n",
    "- ./src/images/query_parameter_1.png\n",
    "- query parameter takes parameter as a string but when it goes to fastapi it converts it data types which we given.\n",
    "- here in url count and height are string but as output we got an integer because we define it's type."
   ]
  },
  {
   "cell_type": "code",
   "execution_count": 1,
   "metadata": {},
   "outputs": [],
   "source": [
    "from fastapi import FastAPI\n",
    "\n",
    "app =FastAPI()\n",
    "\n",
    "@app.get(\"/fruit\")\n",
    "def fruits(count:int=10,weight:int=25):\n",
    "    return {\"fruit_count\":count,\"fruit_weight\":weight}\n",
    "\n"
   ]
  },
  {
   "attachments": {},
   "cell_type": "markdown",
   "metadata": {},
   "source": [
    "- http://127.0.0.1:8000/fruit\n",
    "- ./src/images/query_parameter_2.png\n",
    "\n",
    "- without query parameter it is also working because we define default value of query parameter.this is how we can set default query parameter value."
   ]
  },
  {
   "attachments": {},
   "cell_type": "markdown",
   "metadata": {},
   "source": [
    "## Multiple path and query parameter"
   ]
  },
  {
   "cell_type": "code",
   "execution_count": null,
   "metadata": {},
   "outputs": [],
   "source": [
    "from fastapi import FastAPI\n",
    "\n",
    "app =FastAPI()\n",
    "\n",
    "@app.get(\"/\")\n",
    "def hello():\n",
    "    return \"hello\"\n",
    "\n",
    "@app.get(\"/fruit/{fruit_name}/count/{fruit_count}\")\n",
    "def fruits(fruit_name:str,fruit_count:str):\n",
    "    return {\"fruit_name\":fruit_name,\"fruit_count\":fruit_count}\n"
   ]
  },
  {
   "attachments": {},
   "cell_type": "markdown",
   "metadata": {},
   "source": [
    "- http://127.0.0.1:8000/fruit/apple/count/15\n",
    "- ./src/images/multiple_query_para_0.png\n"
   ]
  },
  {
   "cell_type": "code",
   "execution_count": null,
   "metadata": {},
   "outputs": [],
   "source": [
    "from fastapi import FastAPI\n",
    "\n",
    "app =FastAPI()\n",
    "\n",
    "@app.get(\"/\")\n",
    "def hello():\n",
    "    return \"hello\"\n",
    "\n",
    "\n",
    "@app.get(\"/fruit/{fruit_name}/count/{fruit_count}\")\n",
    "def fruits(total_weight:int,fruit_name:str,fruit_count:int=45):\n",
    "    return {\"fruit_name\":fruit_name,\"fruit_count\":fruit_count,\"total_weight\":total_weight}"
   ]
  },
  {
   "attachments": {},
   "cell_type": "markdown",
   "metadata": {},
   "source": [
    "- http://127.0.0.1:8000/fruit/apple/count/15?total_weight=45\n",
    "- ./src/images/multiple_query_para_1.png\n",
    "\n",
    "- How to make query parameter as an optional\n",
    "\n"
   ]
  },
  {
   "cell_type": "code",
   "execution_count": null,
   "metadata": {},
   "outputs": [],
   "source": [
    "from fastapi import FastAPI\n",
    "from typing import Optional\n",
    "app =FastAPI()\n",
    "\n",
    "@app.get(\"/\")\n",
    "def hello():\n",
    "    return \"hello\"\n",
    "\n",
    "\n",
    "@app.get(\"/fruit/{fruit_name}/count/{fruit_count}\")\n",
    "def fruits(fruit_name:str,fruit_count:int=45,total_weight:Optional[int]=5):\n",
    "    return {\"fruit_name\":fruit_name,\"fruit_count\":fruit_count}"
   ]
  },
  {
   "attachments": {},
   "cell_type": "markdown",
   "metadata": {},
   "source": [
    "- http://127.0.0.1:8000/fruit/apple/count/15\n",
    "- src/images/multiple_query_para_2.png\n",
    "\n",
    "- here we define function parameter as an optional so we don't need to use it forcefully.\n"
   ]
  },
  {
   "cell_type": "code",
   "execution_count": null,
   "metadata": {},
   "outputs": [],
   "source": [
    "from fastapi import FastAPI\n",
    "from typing import Optional\n",
    "app =FastAPI()\n",
    "\n",
    "@app.get(\"/\")\n",
    "def hello():\n",
    "    return \"hello\"\n",
    "\n",
    "\n",
    "@app.get(\"/fruit/{fruit_name}/count/{fruit_count}\")\n",
    "def fruits(fruit_name:str,fruit_count:int=45,total_weight:Optional[int]=5):\n",
    "    return {\"fruit_name\":fruit_name,\"fruit_count\":fruit_count,\"total_weight\":total_weight}"
   ]
  },
  {
   "attachments": {},
   "cell_type": "markdown",
   "metadata": {},
   "source": [
    "- http://127.0.0.1:8000/fruit/apple/count/15\n",
    "\n",
    "- src/images/multiple_query_para_3.png"
   ]
  },
  {
   "attachments": {},
   "cell_type": "markdown",
   "metadata": {},
   "source": [
    "## Request Body\n",
    "\n",
    "- when users wants to send data to an API, users can use a request body of data and then that data send to the API. request body does not necessary all the time.\n",
    "- After the processed the request body the server response to the user with response body.\n",
    "\n"
   ]
  },
  {
   "attachments": {},
   "cell_type": "markdown",
   "metadata": {},
   "source": [
    "- In python to send request body to the fastapi, we use pydantic class. Using pydantic we can make a request body."
   ]
  },
  {
   "cell_type": "code",
   "execution_count": null,
   "metadata": {},
   "outputs": [],
   "source": [
    "from fastapi import FastAPI\n",
    "from typing import Optional\n",
    "from pydantic import BaseModel\n",
    "app =FastAPI()\n",
    "\n",
    "class Fruits(BaseModel):\n",
    "    name:str\n",
    "    weight :Optional[int]=None\n",
    "    count:int\n",
    "\n",
    "\n",
    "@app.get(\"/\")\n",
    "def hello():\n",
    "    return \"hello\"\n",
    "\n",
    "\n",
    "@app.put(\"/fruit\")\n",
    "def fruits(f:Fruits):\n",
    "    return {\"fruit_name\":f.name,\"fruit_count\":f.count,\"total_weight\":f.weight}"
   ]
  },
  {
   "attachments": {},
   "cell_type": "markdown",
   "metadata": {},
   "source": [
    "here we have to use PUT or POST method.now run this program"
   ]
  },
  {
   "attachments": {},
   "cell_type": "markdown",
   "metadata": {},
   "source": [
    "### Query Parameters and String Validations\n",
    "\n",
    "FastAPI is allowed to declare additional information and validation for our parameters. let's see some practicales"
   ]
  },
  {
   "cell_type": "code",
   "execution_count": null,
   "metadata": {},
   "outputs": [],
   "source": [
    "from fastapi import FastAPI\n",
    "from typing import Optional\n",
    "app =FastAPI()\n",
    "\n",
    "@app.get(\"/\")\n",
    "def hello():\n",
    "    return \"hello\"\n",
    "\n",
    "@app.get(\"/fruit/\")\n",
    "def fruits(fruit_name:Optional[ str]=None):\n",
    "    return {\"fruit_name\":fruit_name}"
   ]
  },
  {
   "attachments": {},
   "cell_type": "markdown",
   "metadata": {},
   "source": [
    "- http://"
   ]
  },
  {
   "attachments": {},
   "cell_type": "markdown",
   "metadata": {},
   "source": [
    "- Now if we want to restrict the lenght of a string parameter or restrict the values based on some conditions.\n",
    "- we have to import Query from fastapi"
   ]
  },
  {
   "cell_type": "code",
   "execution_count": null,
   "metadata": {},
   "outputs": [],
   "source": [
    "from fastapi import FastAPI,Query\n",
    "from typing import Optional\n",
    "\n",
    "app =FastAPI()\n",
    "\n",
    "@app.get(\"/\")\n",
    "def hello():\n",
    "    return \"hello\"\n",
    "\n",
    "@app.get(\"/fruit/\")\n",
    "def fruits(fruit_name:Optional[ str]=Query(None,max_length=5)):\n",
    "    return {\"fruit_name\":fruit_name}"
   ]
  },
  {
   "attachments": {},
   "cell_type": "markdown",
   "metadata": {},
   "source": [
    "- http://127.0.0.1:8000/fruit/?fruit_name=orange give an error because of length.\n",
    "- In Query we can also write min_length"
   ]
  },
  {
   "cell_type": "code",
   "execution_count": null,
   "metadata": {},
   "outputs": [],
   "source": [
    "from fastapi import FastAPI,Query\n",
    "from typing import Optional\n",
    "\n",
    "app =FastAPI()\n",
    "\n",
    "@app.get(\"/\")\n",
    "def hello():\n",
    "    return \"hello\"\n",
    "\n",
    "@app.get(\"/fruit/\")\n",
    "def fruits(fruit_name:Optional[ str]=Query(None,min_length=2,max_length=5)):\n",
    "    return {\"fruit_name\":fruit_name}"
   ]
  },
  {
   "cell_type": "code",
   "execution_count": null,
   "metadata": {},
   "outputs": [],
   "source": [
    "from fastapi import FastAPI,Query\n",
    "from typing import Optional\n",
    "\n",
    "app =FastAPI()\n",
    "\n",
    "@app.get(\"/\")\n",
    "def hello():\n",
    "    return \"hello\"\n",
    "\n",
    "@app.get(\"/fruit/\")\n",
    "def fruits(fruit_name:Optional[ str]=Query(\"orange\",min_length=2,max_length=5)):\n",
    "    return {\"fruit_name\":fruit_name}\n",
    "\n"
   ]
  },
  {
   "attachments": {},
   "cell_type": "markdown",
   "metadata": {},
   "source": [
    "- now we are remove Optional and make it required."
   ]
  },
  {
   "cell_type": "code",
   "execution_count": null,
   "metadata": {},
   "outputs": [],
   "source": [
    "from fastapi import FastAPI,Query\n",
    "from typing import Optional\n",
    "\n",
    "app =FastAPI()\n",
    "\n",
    "@app.get(\"/\")\n",
    "def hello():\n",
    "    return \"hello\"\n",
    "\n",
    "@app.get(\"/fruit/\")\n",
    "def fruits(fruit_name: str=Query(...,min_length=2,max_length=5)): # ... is for required\n",
    "    return {\"fruit_name\":fruit_name}"
   ]
  },
  {
   "cell_type": "code",
   "execution_count": null,
   "metadata": {},
   "outputs": [],
   "source": [
    "from fastapi import FastAPI,Query\n",
    "from typing import Optional\n",
    "\n",
    "app =FastAPI()\n",
    "\n",
    "@app.get(\"/\")\n",
    "def hello():\n",
    "    return \"hello\"\n",
    "\n",
    "@app.get(\"/fruit/\")\n",
    "def fruits(fruit_name: Optional[ str]=Query(\"orange\",min_length=2,max_length=5)): # ... is for required\n",
    "    a=2\n",
    "    if fruit_name:# run only when optional parameter available\n",
    "        a=\"optional parameter available\"\n",
    "    return {\"This is query parameters additionals opetions\":a}"
   ]
  },
  {
   "attachments": {},
   "cell_type": "markdown",
   "metadata": {},
   "source": [
    "### Form Data\n",
    "\n",
    "- Previously we are passing the data http://127.0.0.1:8000/docs in json format, now we are going to pass Form data.\n",
    "- Form is not installed by default in FastAPI, so we need to install it first using the below command."
   ]
  },
  {
   "cell_type": "code",
   "execution_count": 1,
   "metadata": {},
   "outputs": [
    {
     "name": "stdout",
     "output_type": "stream",
     "text": [
      "Collecting python-multipart\n",
      "  Using cached python_multipart-0.0.6-py3-none-any.whl (45 kB)\n",
      "Installing collected packages: python-multipart\n",
      "Successfully installed python-multipart-0.0.6\n",
      "Note: you may need to restart the kernel to use updated packages.\n"
     ]
    }
   ],
   "source": [
    "%pip install python-multipart"
   ]
  },
  {
   "cell_type": "code",
   "execution_count": null,
   "metadata": {},
   "outputs": [],
   "source": [
    "from fastapi import FastAPI,Form\n",
    "from typing import Optional\n",
    "\n",
    "app =FastAPI()\n",
    "\n",
    "@app.get(\"/\")\n",
    "def hello():\n",
    "    return \"hello\"\n",
    "\n",
    "@app.post(\"/signup\")\n",
    "def signup(user_name:str = Form(...),phone_no:int = Form(...)):\n",
    "    return {\"User_Name\":user_name}"
   ]
  },
  {
   "attachments": {},
   "cell_type": "markdown",
   "metadata": {},
   "source": [
    "- here the user_name comes from font-end html page"
   ]
  },
  {
   "attachments": {},
   "cell_type": "markdown",
   "metadata": {},
   "source": [
    "### Request Files"
   ]
  },
  {
   "cell_type": "code",
   "execution_count": null,
   "metadata": {},
   "outputs": [],
   "source": [
    "from fastapi import FastAPI,File,UploadFile\n",
    "from typing import Optional\n",
    "\n",
    "app =FastAPI()\n",
    "\n",
    "@app.get(\"/\")\n",
    "def hello():\n",
    "    return \"hello\"\n",
    "\n",
    "@app.post(\"/file\")\n",
    "def create_f(file:bytes=File(...)): #this will work for short files and it is old method\n",
    "    return {\"File_Size\":len(file)}\n",
    "\n",
    "\n",
    "@app.post(\"/upload_file\")\n",
    "def upload_f(file:UploadFile): #this will work for bigger files\n",
    "    return {\"Filename\":len(file.filename)}"
   ]
  },
  {
   "attachments": {},
   "cell_type": "markdown",
   "metadata": {},
   "source": [
    "- 4.17.fastapi_17_demo\n",
    "- Demo Project"
   ]
  },
  {
   "attachments": {},
   "cell_type": "markdown",
   "metadata": {},
   "source": [
    "## Hnadling The Errors\n",
    "\n",
    "- There are many situation in which we need to identify the errors.\n",
    "- when we are trying to read any file and if it is not present then it should give response as the file does not exist.\n",
    "- If users access to some other place which are does not have access for it that will give access denied.\n",
    "- let's see how we can handle errors in fastapi.\n",
    "\n",
    "- To return an http response  with error to the client we use HTTPException"
   ]
  },
  {
   "cell_type": "code",
   "execution_count": null,
   "metadata": {},
   "outputs": [],
   "source": [
    "from fastapi import FastAPI, HTTPException\n",
    "\n",
    "from typing import Optional\n",
    "\n",
    "app =FastAPI()\n",
    "\n",
    "fruit={\"orange\":\"this fruit is sour\"}\n",
    "\n",
    "@app.get(\"/\")\n",
    "def hello():\n",
    "    return \"hello\"\n",
    "\n",
    "@app.get(\"/fruits/{fruit_name}\")\n",
    "def read_fruit(fruit_name:str):\n",
    "    if fruit_name not in fruit:\n",
    "        raise HTTPException(status_code=404,detail=\"Item is not found\")\n",
    "    return {\"Fruit property is : \":fruit[fruit_name]}        \n",
    "\n",
    "\n"
   ]
  },
  {
   "attachments": {},
   "cell_type": "markdown",
   "metadata": {},
   "source": [
    "- Now we are writing a custom exception"
   ]
  },
  {
   "cell_type": "code",
   "execution_count": null,
   "metadata": {},
   "outputs": [],
   "source": [
    "from fastapi import FastAPI, Request\n",
    "from fastapi.responses import JSONResponse\n",
    "from typing import Optional\n",
    "\n",
    "class FruitException(Exception):\n",
    "    def __init__(self, name:str):\n",
    "        self.name=name\n",
    "\n",
    "\n",
    "app =FastAPI()\n",
    "\n",
    "@app.exception_handlers(FruitException)\n",
    "def fruit_exception_handler(request:Request,exc:FruitException):\n",
    "    return JSONResponse(\n",
    "        status_code=450,\n",
    "        content={\"message\":\"Fruit-{exc.name} season is gone\"}\n",
    "    )\n",
    "fruit={\"orange\":\"this fruit is sour\"}\n",
    "\n",
    "@app.get(\"/\")\n",
    "def hello():\n",
    "    return \"hello\"\n",
    "\n",
    "@app.get(\"/fruits/{name}\")\n",
    "def read_fruit(name:str):\n",
    "    if name==\"Guava\":\n",
    "        raise FruitException(name=name)\n",
    "    return {\"Fruit is available\":name}"
   ]
  }
 ],
 "metadata": {
  "kernelspec": {
   "display_name": "venv",
   "language": "python",
   "name": "python3"
  },
  "language_info": {
   "codemirror_mode": {
    "name": "ipython",
    "version": 3
   },
   "file_extension": ".py",
   "mimetype": "text/x-python",
   "name": "python",
   "nbconvert_exporter": "python",
   "pygments_lexer": "ipython3",
   "version": "3.10.6"
  },
  "orig_nbformat": 4
 },
 "nbformat": 4,
 "nbformat_minor": 2
}
