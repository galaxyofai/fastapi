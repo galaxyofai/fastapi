{
 "cells": [
  {
   "attachments": {},
   "cell_type": "markdown",
   "metadata": {},
   "source": [
    "## What is an API\n",
    "\n",
    "API stands for application program interface"
   ]
  },
  {
   "attachments": {},
   "cell_type": "markdown",
   "metadata": {},
   "source": [
    "## Why use an API\n",
    "\n",
    "Api is a communator between front-end and back-end or we can say that API is help to use one program from another program.\n",
    "\n",
    "API is used to provide web services or HTTP web services.\n",
    "\n",
    "Suppose a web developer making a website and in this website we wanted to integrate Machine learning but a web developer does'n know anything about machine learning, they should only know API.\n",
    "\n",
    "If they know API they can integrate machine learning without knowing how it's works. they can directly use The API in the website and the website is good to go with machine learning also.\n",
    "\n",
    "there are some important things we know before the use an API.\n",
    "\n",
    "1. What API should i use?\n",
    "2. how to use that API?\n",
    "3. What are the inputs?\n",
    "4. what are the outputs?\n",
    "\n",
    "Examples we use in our daily life.\n",
    "\n",
    "1. google text to speech\n"
   ]
  },
  {
   "attachments": {},
   "cell_type": "markdown",
   "metadata": {},
   "source": [
    "## Advantages Of An API\n",
    "\n",
    "- Increase Productivity\n",
    "- save cost\n",
    "- enhance the customer experience\n",
    "- collects data for analysis\n",
    "- build new product capabilities"
   ]
  },
  {
   "attachments": {},
   "cell_type": "markdown",
   "metadata": {},
   "source": [
    "## What we'll learn\n",
    "- Introduction to API\n",
    "- Getting Started with FastAPI\n",
    "- Features of FastAPI\n",
    "- Python Type Hints"
   ]
  },
  {
   "attachments": {},
   "cell_type": "markdown",
   "metadata": {},
   "source": [
    "What career path we can follow after completion of full tutorial of fastapi\n",
    "\n",
    "- web developer\n",
    "- software developer\n",
    "- python developer\n",
    "- java developer \n",
    "- full stack developer\n",
    "- front-end devveloper\n",
    "- back-end developer\n",
    "- web service provider\n",
    "- web services tool provider \n",
    "- create our own tools and sell them    \n",
    "\n",
    "API extends the capabilities of any projects, making an API is a part of a developer, if you are a developer then we shoud know how to make an API and how to use the API.\n",
    "\n",
    "After learning FastAPI we able to learn a to z of a machine learning process of a project bulding process.\n",
    "\n",
    "person who has to able to understand front and back both and able to communicate with both using an API.\n",
    "\n",
    "Even if it is MySQL,Python,Java,css or whatever we use .\n",
    "\n",
    "After completion of this tutrial we can alppy for development or as a service provider."
   ]
  },
  {
   "cell_type": "code",
   "execution_count": null,
   "metadata": {},
   "outputs": [],
   "source": []
  },
  {
   "cell_type": "code",
   "execution_count": null,
   "metadata": {},
   "outputs": [],
   "source": []
  },
  {
   "cell_type": "code",
   "execution_count": null,
   "metadata": {},
   "outputs": [],
   "source": []
  }
 ],
 "metadata": {
  "language_info": {
   "name": "python"
  },
  "orig_nbformat": 4
 },
 "nbformat": 4,
 "nbformat_minor": 2
}
