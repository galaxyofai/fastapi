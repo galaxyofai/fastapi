{
 "cells": [
  {
   "attachments": {},
   "cell_type": "markdown",
   "metadata": {},
   "source": [
    "### Python Type Hints\n",
    "\n",
    "#### What is type hints?\n",
    "\n",
    "- Type hints are additonal syntax in which we can provide a type of a variable in python \n",
    "- python does not provide us to define the type of a variable.when we create a variable in python we does not need to define a type of it.In other programming language we need to provide type of a variable.\n",
    "\n",
    "\n",
    "#### Why type hints are important?\n",
    "\n",
    "- In python we declare variable as below.\n",
    "- i=10 there is no problem in that, but if we define variables with their types it gives us an additional support for editor , validation support .\n"
   ]
  },
  {
   "cell_type": "code",
   "execution_count": 1,
   "metadata": {},
   "outputs": [],
   "source": [
    "from fastapi import FastAPI\n",
    "\n",
    "app = FastAPI()\n",
    "\n",
    "\n",
    "\n",
    "@app.get(\"/\")\n",
    "def hello(name:str,height:int):\n",
    "    return {\"name is\" + name + \"and height is \"+ height}"
   ]
  },
  {
   "attachments": {},
   "cell_type": "markdown",
   "metadata": {},
   "source": [
    "### Basic Type Hint In Python\n",
    "\n"
   ]
  },
  {
   "cell_type": "code",
   "execution_count": 2,
   "metadata": {},
   "outputs": [],
   "source": [
    "def get_full_name(first_name:str,last_name:str):\n",
    "    full_name= first_name.title() + last_name.title()\n",
    "    return full_name\n",
    "\n"
   ]
  },
  {
   "cell_type": "code",
   "execution_count": 6,
   "metadata": {},
   "outputs": [
    {
     "data": {
      "text/plain": [
       "'Hasmukh Mer'"
      ]
     },
     "execution_count": 6,
     "metadata": {},
     "output_type": "execute_result"
    }
   ],
   "source": [
    "get_full_name(\"Hasmukh \",\"mer\")"
   ]
  },
  {
   "attachments": {},
   "cell_type": "markdown",
   "metadata": {},
   "source": [
    "- this is an optional support from python which we can use to define python types in our python code."
   ]
  },
  {
   "attachments": {},
   "cell_type": "markdown",
   "metadata": {},
   "source": [
    "### Specifying funtion return type hint"
   ]
  },
  {
   "cell_type": "code",
   "execution_count": 10,
   "metadata": {},
   "outputs": [
    {
     "data": {
      "text/plain": [
       "'Hasmukh Mer'"
      ]
     },
     "execution_count": 10,
     "metadata": {},
     "output_type": "execute_result"
    }
   ],
   "source": [
    "def get_full_name(first_name:str,last_name:str) -> str:\n",
    "    full_name= first_name.title() + last_name.title()\n",
    "    return full_name\n",
    "\n",
    "get_full_name(\"Hasmukh \",\"mer\")"
   ]
  },
  {
   "cell_type": "code",
   "execution_count": 16,
   "metadata": {},
   "outputs": [
    {
     "data": {
      "text/plain": [
       "'Hasmukh Mer'"
      ]
     },
     "execution_count": 16,
     "metadata": {},
     "output_type": "execute_result"
    }
   ],
   "source": [
    "def get_full_name(first_name:str,last_name:str) :\n",
    "    full_name= first_name.title() + last_name.title()\n",
    "    return full_name\n",
    "\n",
    "get_full_name(\"Hasmukh \",\"mer\")"
   ]
  },
  {
   "cell_type": "code",
   "execution_count": null,
   "metadata": {},
   "outputs": [],
   "source": []
  },
  {
   "cell_type": "code",
   "execution_count": null,
   "metadata": {},
   "outputs": [],
   "source": []
  }
 ],
 "metadata": {
  "kernelspec": {
   "display_name": "venv",
   "language": "python",
   "name": "python3"
  },
  "language_info": {
   "codemirror_mode": {
    "name": "ipython",
    "version": 3
   },
   "file_extension": ".py",
   "mimetype": "text/x-python",
   "name": "python",
   "nbconvert_exporter": "python",
   "pygments_lexer": "ipython3",
   "version": "3.10.6"
  },
  "orig_nbformat": 4
 },
 "nbformat": 4,
 "nbformat_minor": 2
}
