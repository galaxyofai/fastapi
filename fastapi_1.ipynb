{
 "cells": [
  {
   "attachments": {},
   "cell_type": "markdown",
   "metadata": {},
   "source": [
    "## What is FastAPI ?\n",
    "\n",
    "FastAPI is modern,fast,high performance web application framwork used for building API's in python3.6+ using python type hints.\n",
    "\n",
    "Python type hints is a standard library for using type hints. we will learn more about type hints further.\n",
    "\n",
    "fatAPI is a framwork for building restfull API's. not all the http APIs are restfull.\n",
    "\n",
    "there are certain architecture condition apply to be restfull.\n",
    "\n",
    "many big companies like uber,microsoft,netflix are building their own application with the help of fastapi."
   ]
  },
  {
   "attachments": {},
   "cell_type": "markdown",
   "metadata": {},
   "source": [
    "## Install Python if not installed"
   ]
  },
  {
   "cell_type": "code",
   "execution_count": 3,
   "metadata": {},
   "outputs": [
    {
     "name": "stdout",
     "output_type": "stream",
     "text": [
      "Python 3.10.6\n"
     ]
    }
   ],
   "source": [
    "%python3 -V"
   ]
  },
  {
   "attachments": {},
   "cell_type": "markdown",
   "metadata": {},
   "source": [
    "## Installing FastAPI"
   ]
  },
  {
   "cell_type": "code",
   "execution_count": 6,
   "metadata": {},
   "outputs": [
    {
     "name": "stdout",
     "output_type": "stream",
     "text": [
      "Defaulting to user installation because normal site-packages is not writeable\n",
      "Collecting fastapi\n",
      "  Using cached fastapi-0.95.0-py3-none-any.whl (57 kB)\n",
      "Collecting starlette<0.27.0,>=0.26.1\n",
      "  Using cached starlette-0.26.1-py3-none-any.whl (66 kB)\n",
      "Requirement already satisfied: pydantic!=1.7,!=1.7.1,!=1.7.2,!=1.7.3,!=1.8,!=1.8.1,<2.0.0,>=1.6.2 in /home/tech/.local/lib/python3.10/site-packages (from fastapi) (1.8.2)\n",
      "Requirement already satisfied: typing-extensions>=3.7.4.3 in /home/tech/.local/lib/python3.10/site-packages (from pydantic!=1.7,!=1.7.1,!=1.7.2,!=1.7.3,!=1.8,!=1.8.1,<2.0.0,>=1.6.2->fastapi) (4.5.0)\n",
      "Requirement already satisfied: anyio<5,>=3.4.0 in /home/tech/.local/lib/python3.10/site-packages (from starlette<0.27.0,>=0.26.1->fastapi) (3.6.1)\n",
      "Requirement already satisfied: sniffio>=1.1 in /home/tech/.local/lib/python3.10/site-packages (from anyio<5,>=3.4.0->starlette<0.27.0,>=0.26.1->fastapi) (1.2.0)\n",
      "Requirement already satisfied: idna>=2.8 in /home/tech/.local/lib/python3.10/site-packages (from anyio<5,>=3.4.0->starlette<0.27.0,>=0.26.1->fastapi) (3.4)\n",
      "Installing collected packages: starlette, fastapi\n",
      "Successfully installed fastapi-0.95.0 starlette-0.26.1\n",
      "Note: you may need to restart the kernel to use updated packages.\n"
     ]
    }
   ],
   "source": [
    "%pip install fastapi"
   ]
  },
  {
   "attachments": {},
   "cell_type": "markdown",
   "metadata": {},
   "source": [
    "## Create first simple program using fastapi"
   ]
  },
  {
   "attachments": {},
   "cell_type": "markdown",
   "metadata": {},
   "source": [
    "Create a hello_world.py file and past the below code into this file."
   ]
  },
  {
   "cell_type": "code",
   "execution_count": 7,
   "metadata": {},
   "outputs": [],
   "source": [
    "from fastapi import FastAPI\n",
    "\n",
    "app = FastAPI()\n",
    "\n",
    "\n",
    "\n",
    "@app.get(\"/\")\n",
    "def hello():\n",
    "    return {\"hello\":\"world\"}"
   ]
  },
  {
   "attachments": {},
   "cell_type": "markdown",
   "metadata": {},
   "source": [
    "### command for the run file\n",
    "\n",
    "- uvicorn hello_world:app --reload\n",
    "\n",
    "when we run the command we get an localhost URl http://127.0.0.1:8000 <br>\n",
    "Open it in browser and we can see the output of the fastAPI.\n"
   ]
  },
  {
   "attachments": {},
   "cell_type": "markdown",
   "metadata": {},
   "source": [
    "### GET And PUT methods in fastapi\n",
    "\n",
    "- GET - GET is used to send data to server from specified source"
   ]
  },
  {
   "attachments": {},
   "cell_type": "markdown",
   "metadata": {},
   "source": [
    "## JSON\n",
    "\n",
    "- JSON- Javascript object notation\n",
    "- JSON is a text-based representation of structure data based on key-value pair.\n",
    "- JSON is an boject of javascript\n",
    "- JSON is a data types of javascript which can be used natively or as a library in most programming language.\n",
    "\n",
    "- JSON is used to communicate with web server and web client\n",
    "- It is looks like python dictionaries"
   ]
  },
  {
   "attachments": {},
   "cell_type": "markdown",
   "metadata": {},
   "source": [
    "## JSON Response\n",
    "\n"
   ]
  },
  {
   "cell_type": "code",
   "execution_count": 1,
   "metadata": {},
   "outputs": [],
   "source": [
    "from fastapi import FastAPI\n",
    "\n",
    "app = FastAPI()\n",
    "\n",
    "@app.get(\"/\")\n",
    "def main():\n",
    "    return {\"Hello\":\"World\"}\n",
    "\n",
    "\n",
    "@app.get(\"/next/{items_no}\")\n",
    "def main_2(items_no:int):\n",
    "    return {\"Hello\":items_no}\n"
   ]
  },
  {
   "attachments": {},
   "cell_type": "markdown",
   "metadata": {},
   "source": [
    "## GET And Put Method Examples\n",
    "\n",
    "- get method is used to get data to front-end from the back-end here back-end is the our python code"
   ]
  },
  {
   "cell_type": "code",
   "execution_count": 2,
   "metadata": {},
   "outputs": [],
   "source": [
    "from fastapi import FastAPI\n",
    "\n",
    "app = FastAPI()\n",
    "\n",
    "@app.get(\"/\")\n",
    "def main_get():\n",
    "    return {\"1\":\"2\"}"
   ]
  },
  {
   "attachments": {},
   "cell_type": "markdown",
   "metadata": {},
   "source": [
    "- PUT method is used to take data from the front-end and that data traverse to the respose body and then that body data come to our server."
   ]
  },
  {
   "cell_type": "code",
   "execution_count": 3,
   "metadata": {},
   "outputs": [],
   "source": [
    "from fastapi import FastAPI\n",
    "\n",
    "app = FastAPI()\n",
    "\n",
    "@app.put(\"/hello\")\n",
    "def main_put():\n",
    "    return {\"1\":\"2\"}"
   ]
  },
  {
   "attachments": {},
   "cell_type": "markdown",
   "metadata": {},
   "source": [
    "- when we try to run the above code\n",
    "- we get the respose as below\n",
    "\n",
    "/home/tech/Desktop/Hasmukh/Hasmukh/fastapi/src/images/put_0.png\n",
    "\n",
    "- the reason behind this response is we did not sent any data from the our front-end to our request body\n",
    "we can not write directly. to send data to our back-end we have to use some kind of software.\n",
    "-To test this types of API we use POSTMAN incase of Flask ansd all.\n",
    "\n",
    "- We can also use fastapi for the put method.\n",
    "- Also we can use HTML,CSS form to send data using PUT method to our fastapi code."
   ]
  },
  {
   "attachments": {},
   "cell_type": "markdown",
   "metadata": {},
   "source": [
    "## Interactive API Docs\n",
    "\n",
    "- when we use put method we need front-end for the send our data to api, every developer does not know the fron-end but we need to know server functionality whether it is working perfectly or not,So in Flask API  if we want to test we use POSTMAN for the send the request body,\n",
    "- In the case of FastAPI we don't need to use any other software to test our API,FastAPI provide us some methods to test our API using interactive API Docs.\n",
    "\n",
    "- So let's test the API using interactive API Documentation."
   ]
  },
  {
   "cell_type": "code",
   "execution_count": 4,
   "metadata": {},
   "outputs": [],
   "source": [
    "from fastapi import FastAPI\n",
    "\n",
    "app = FastAPI()\n",
    "\n",
    "@app.get(\"/\")\n",
    "def main():\n",
    "    return {\"Hello\":\"World\"}\n",
    "\n",
    "\n",
    "@app.get(\"/fruit_count/{fruit_count}\")\n",
    "def get_fruit_count(fruit_count:int):\n",
    "    return {\"Total Fruit Count\":fruit_count}\n"
   ]
  },
  {
   "attachments": {},
   "cell_type": "markdown",
   "metadata": {},
   "source": [
    "- when we use get method we don't get any problem, but when we write same method with put then we get some problem"
   ]
  },
  {
   "cell_type": "code",
   "execution_count": null,
   "metadata": {},
   "outputs": [],
   "source": [
    "from fastapi import FastAPI\n",
    "\n",
    "app = FastAPI()\n",
    "\n",
    "@app.get(\"/\")\n",
    "def main():\n",
    "    return {\"Hello\":\"World\"}\n",
    "\n",
    "\n",
    "@app.put(\"/fruit_count_1/{fruit_count}\")\n",
    "def put_fruit_count(fruit_count:int):\n",
    "    return {\"Total Fruit Count\":fruit_count}"
   ]
  },
  {
   "cell_type": "code",
   "execution_count": 5,
   "metadata": {},
   "outputs": [],
   "source": [
    "from fastapi import FastAPI\n",
    "\n",
    "app = FastAPI()\n",
    "\n",
    "@app.get(\"/\")\n",
    "def main():\n",
    "    return {\"Hello\":\"World\"}\n",
    "\n",
    "\n",
    "@app.get(\"/fruit_count/{fruit_count}\")\n",
    "def get_fruit_count(fruit_count:int):\n",
    "    return {\"Total Fruit Count\":fruit_count}\n",
    "\n",
    "@app.put(\"/fruit_count_1/{fruit_count}\")\n",
    "def put_fruit_count(fruit_count:int):\n",
    "    return {\"Total Fruit Count\":fruit_count}"
   ]
  },
  {
   "attachments": {},
   "cell_type": "markdown",
   "metadata": {},
   "source": [
    "run the above code and open the url : http://127.0.0.1:8000/docs"
   ]
  },
  {
   "attachments": {},
   "cell_type": "markdown",
   "metadata": {},
   "source": [
    "- Explain the below images\n",
    "- /home/tech/Desktop/Hasmukh/Hasmukh/fastapi/src/images/put_api_dco_0.png\n",
    "- /home/tech/Desktop/Hasmukh/Hasmukh/fastapi/src/images/put_api_doc_1.png\n",
    "- /home/tech/Desktop/Hasmukh/Hasmukh/fastapi/src/images/put_api_doc_2.png"
   ]
  },
  {
   "attachments": {},
   "cell_type": "markdown",
   "metadata": {},
   "source": [
    "## Alternative API Docs\n",
    "\n",
    "- using alternative api documentation we can understand that what things are required and what things are not required\n",
    "\n"
   ]
  },
  {
   "cell_type": "code",
   "execution_count": null,
   "metadata": {},
   "outputs": [],
   "source": [
    "from fastapi import FastAPI\n",
    "\n",
    "app = FastAPI()\n",
    "\n",
    "@app.get(\"/\")\n",
    "def main():\n",
    "    return {\"Hello\":\"World\"}\n",
    "\n",
    "\n",
    "@app.get(\"/fruit_count/{fruit_count}\")\n",
    "def get_fruit_count(fruit_count:int):\n",
    "    return {\"Total Fruit Count\":fruit_count}\n",
    "\n",
    "@app.put(\"/fruit_count_1/{fruit_count}\")\n",
    "def put_fruit_count(fruit_count:int):\n",
    "    return {\"Total Fruit Count\":fruit_count}"
   ]
  },
  {
   "attachments": {},
   "cell_type": "markdown",
   "metadata": {},
   "source": [
    "- run the above code and open the url: http://127.0.0.1:8000/redoc"
   ]
  },
  {
   "attachments": {},
   "cell_type": "markdown",
   "metadata": {},
   "source": [
    "## What is Uvicorn ?\n",
    "\n",
    "- when we run fastapi we use uvicorn.\n",
    "- command for the run fastapi: uvicorn filename:app --reload\n",
    "\n",
    "- uvicorn is very fast ASGI server implementation.\n",
    "\n",
    "- flask is another api framwork of python and flask is using WSGI server implementation\n",
    "\n",
    "#### what is ASGI server and what is WSGI server?\n",
    "\n",
    "- WSGI- web server gateway interface\n",
    "- ASGI- Asynchronous server gateway interface\n",
    "\n",
    "- flask is not able to run asynchronous task when fastapi is able to run asynchronous task.\n",
    "\n",
    "- uvicorn is built on ASGI server tha's why it is able to run asynchronous task\n",
    "\n",
    "#### what is an asynchronous task?\n",
    "\n",
    "- asynchronous task means when task-1 is runnit it will wait until it's done and after that task-2 is beggin.\n",
    "- task run one-by-one whnen we use asynchronous.\n"
   ]
  },
  {
   "attachments": {},
   "cell_type": "markdown",
   "metadata": {},
   "source": [
    "### Features of Using FastAPI\n",
    "\n",
    "- it is very Fast\n",
    "- fast to code\n",
    "- fewer codes with fewer bugs\n",
    "- it has great editor support\n",
    "- easy to undersatnd and implement\n",
    "- robust\n",
    "- it follows standards of the API\n",
    "\n"
   ]
  },
  {
   "cell_type": "code",
   "execution_count": null,
   "metadata": {},
   "outputs": [],
   "source": []
  }
 ],
 "metadata": {
  "kernelspec": {
   "display_name": "Python 3",
   "language": "python",
   "name": "python3"
  },
  "language_info": {
   "codemirror_mode": {
    "name": "ipython",
    "version": 3
   },
   "file_extension": ".py",
   "mimetype": "text/x-python",
   "name": "python",
   "nbconvert_exporter": "python",
   "pygments_lexer": "ipython3",
   "version": "3.10.6"
  },
  "orig_nbformat": 4
 },
 "nbformat": 4,
 "nbformat_minor": 2
}
